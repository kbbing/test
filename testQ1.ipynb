{
  "nbformat": 4,
  "nbformat_minor": 0,
  "metadata": {
    "colab": {
      "provenance": [],
      "authorship_tag": "ABX9TyNyka0UcS4SBov/tyf0B9Oz",
      "include_colab_link": true
    },
    "kernelspec": {
      "name": "python3",
      "display_name": "Python 3"
    },
    "language_info": {
      "name": "python"
    }
  },
  "cells": [
    {
      "cell_type": "markdown",
      "metadata": {
        "id": "view-in-github",
        "colab_type": "text"
      },
      "source": [
        "<a href=\"https://colab.research.google.com/github/kbbing/test/blob/main/testQ1.ipynb\" target=\"_parent\"><img src=\"https://colab.research.google.com/assets/colab-badge.svg\" alt=\"Open In Colab\"/></a>"
      ]
    },
    {
      "cell_type": "code",
      "execution_count": null,
      "metadata": {
        "colab": {
          "base_uri": "https://localhost:8080/",
          "height": 616
        },
        "id": "yKNlLALxBtIj",
        "outputId": "e0c648c7-77d7-4650-f626-16d938f5f899"
      },
      "outputs": [
        {
          "output_type": "stream",
          "name": "stdout",
          "text": [
            " \n",
            "————————————————————————————————\n",
            "Current word: _ _ _ _ _ _ _ _\n",
            "Incorrect guesses : 0\n",
            "Guess a letter: p\n",
            "Incorrect guess. Please try another letter.\n",
            " \n",
            "————————————————————————————————\n",
            "\n",
            "     O \n",
            "\n",
            "    \n",
            "————————————————————————————————\n",
            "Current word: _ _ _ _ _ _ _ _\n",
            "Incorrect guesses : 1\n"
          ]
        },
        {
          "output_type": "error",
          "ename": "KeyboardInterrupt",
          "evalue": "Interrupted by user",
          "traceback": [
            "\u001b[0;31m---------------------------------------------------------------------------\u001b[0m",
            "\u001b[0;31mKeyboardInterrupt\u001b[0m                         Traceback (most recent call last)",
            "\u001b[0;32m<ipython-input-40-40e0abc6c0f4>\u001b[0m in \u001b[0;36m<cell line: 70>\u001b[0;34m()\u001b[0m\n\u001b[1;32m     70\u001b[0m \u001b[0;32mwhile\u001b[0m \u001b[0mincorrect_guesses\u001b[0m \u001b[0;34m<\u001b[0m \u001b[0mmax_incorrect_guesses\u001b[0m \u001b[0;32mand\u001b[0m \u001b[0;34m\"_\"\u001b[0m \u001b[0;32min\u001b[0m \u001b[0mhidden_word\u001b[0m\u001b[0;34m:\u001b[0m\u001b[0;34m\u001b[0m\u001b[0;34m\u001b[0m\u001b[0m\n\u001b[1;32m     71\u001b[0m     \u001b[0mdisplay_game_state\u001b[0m\u001b[0;34m(\u001b[0m\u001b[0;34m)\u001b[0m\u001b[0;34m\u001b[0m\u001b[0;34m\u001b[0m\u001b[0m\n\u001b[0;32m---> 72\u001b[0;31m     \u001b[0mguess\u001b[0m \u001b[0;34m=\u001b[0m \u001b[0minput\u001b[0m\u001b[0;34m(\u001b[0m\u001b[0;34m\"Guess a letter: \"\u001b[0m\u001b[0;34m)\u001b[0m\u001b[0;34m.\u001b[0m\u001b[0mupper\u001b[0m\u001b[0;34m(\u001b[0m\u001b[0;34m)\u001b[0m\u001b[0;34m\u001b[0m\u001b[0;34m\u001b[0m\u001b[0m\n\u001b[0m\u001b[1;32m     73\u001b[0m \u001b[0;34m\u001b[0m\u001b[0m\n\u001b[1;32m     74\u001b[0m     \u001b[0;32mif\u001b[0m \u001b[0mguess\u001b[0m \u001b[0;32min\u001b[0m \u001b[0mguessed_letters\u001b[0m\u001b[0;34m:\u001b[0m\u001b[0;34m\u001b[0m\u001b[0;34m\u001b[0m\u001b[0m\n",
            "\u001b[0;32m/usr/local/lib/python3.10/dist-packages/ipykernel/kernelbase.py\u001b[0m in \u001b[0;36mraw_input\u001b[0;34m(self, prompt)\u001b[0m\n\u001b[1;32m    849\u001b[0m                 \u001b[0;34m\"raw_input was called, but this frontend does not support input requests.\"\u001b[0m\u001b[0;34m\u001b[0m\u001b[0;34m\u001b[0m\u001b[0m\n\u001b[1;32m    850\u001b[0m             )\n\u001b[0;32m--> 851\u001b[0;31m         return self._input_request(str(prompt),\n\u001b[0m\u001b[1;32m    852\u001b[0m             \u001b[0mself\u001b[0m\u001b[0;34m.\u001b[0m\u001b[0m_parent_ident\u001b[0m\u001b[0;34m,\u001b[0m\u001b[0;34m\u001b[0m\u001b[0;34m\u001b[0m\u001b[0m\n\u001b[1;32m    853\u001b[0m             \u001b[0mself\u001b[0m\u001b[0;34m.\u001b[0m\u001b[0m_parent_header\u001b[0m\u001b[0;34m,\u001b[0m\u001b[0;34m\u001b[0m\u001b[0;34m\u001b[0m\u001b[0m\n",
            "\u001b[0;32m/usr/local/lib/python3.10/dist-packages/ipykernel/kernelbase.py\u001b[0m in \u001b[0;36m_input_request\u001b[0;34m(self, prompt, ident, parent, password)\u001b[0m\n\u001b[1;32m    893\u001b[0m             \u001b[0;32mexcept\u001b[0m \u001b[0mKeyboardInterrupt\u001b[0m\u001b[0;34m:\u001b[0m\u001b[0;34m\u001b[0m\u001b[0;34m\u001b[0m\u001b[0m\n\u001b[1;32m    894\u001b[0m                 \u001b[0;31m# re-raise KeyboardInterrupt, to truncate traceback\u001b[0m\u001b[0;34m\u001b[0m\u001b[0;34m\u001b[0m\u001b[0m\n\u001b[0;32m--> 895\u001b[0;31m                 \u001b[0;32mraise\u001b[0m \u001b[0mKeyboardInterrupt\u001b[0m\u001b[0;34m(\u001b[0m\u001b[0;34m\"Interrupted by user\"\u001b[0m\u001b[0;34m)\u001b[0m \u001b[0;32mfrom\u001b[0m \u001b[0;32mNone\u001b[0m\u001b[0;34m\u001b[0m\u001b[0;34m\u001b[0m\u001b[0m\n\u001b[0m\u001b[1;32m    896\u001b[0m             \u001b[0;32mexcept\u001b[0m \u001b[0mException\u001b[0m \u001b[0;32mas\u001b[0m \u001b[0me\u001b[0m\u001b[0;34m:\u001b[0m\u001b[0;34m\u001b[0m\u001b[0;34m\u001b[0m\u001b[0m\n\u001b[1;32m    897\u001b[0m                 \u001b[0mself\u001b[0m\u001b[0;34m.\u001b[0m\u001b[0mlog\u001b[0m\u001b[0;34m.\u001b[0m\u001b[0mwarning\u001b[0m\u001b[0;34m(\u001b[0m\u001b[0;34m\"Invalid Message:\"\u001b[0m\u001b[0;34m,\u001b[0m \u001b[0mexc_info\u001b[0m\u001b[0;34m=\u001b[0m\u001b[0;32mTrue\u001b[0m\u001b[0;34m)\u001b[0m\u001b[0;34m\u001b[0m\u001b[0;34m\u001b[0m\u001b[0m\n",
            "\u001b[0;31mKeyboardInterrupt\u001b[0m: Interrupted by user"
          ]
        }
      ],
      "source": [
        "import random\n",
        "\n",
        "words = [\"PYTHON\", \"LARAVEL\", \"PROGRAMMING\", \"SOFTWARE\"]\n",
        "\n",
        "word_to_guess = random.choice(words)\n",
        "\n",
        "hidden_word = [\"_\"] * len(word_to_guess)\n",
        "\n",
        "max_incorrect_guesses = 6\n",
        "incorrect_guesses = 0\n",
        "guessed_letters = []\n",
        "\n",
        "hangman_visuals = [\n",
        "    \" \",\n",
        "\n",
        "    \"\"\"\n",
        "     O\n",
        "\n",
        "    \"\"\",\n",
        "\n",
        "    \"\"\"\n",
        "     O\n",
        "     |\n",
        "\n",
        "    \"\"\",\n",
        "\n",
        "    \"\"\"\n",
        "     O\n",
        "    /|\n",
        "\n",
        "    \"\"\",\n",
        "\n",
        "    \"\"\"\n",
        "     O\n",
        "    /|\\\\\n",
        "\n",
        "    \"\"\",\n",
        "\n",
        "    \"\"\"\n",
        "     O\n",
        "    /|\\\\\n",
        "    /\n",
        "\n",
        "    \"\"\",\n",
        "\n",
        "    \"\"\"\n",
        "     O\n",
        "    /|\\\\\n",
        "    / \\\\\n",
        "\n",
        "    \"\"\"\n",
        "]\n",
        "\n",
        "def display_game_state():\n",
        "    if incorrect_guesses > 0:\n",
        "      print(\"————————————————————————————————\")\n",
        "    print(hangman_visuals[incorrect_guesses])\n",
        "    print(\"————————————————————————————————\")\n",
        "    if incorrect_guesses < max_incorrect_guesses:\n",
        "      print(\"Current word: \" + \" \".join(hidden_word))\n",
        "      print(\"Incorrect guesses : \" + str(incorrect_guesses))\n",
        "\n",
        "\n",
        "while incorrect_guesses < max_incorrect_guesses and \"_\" in hidden_word:\n",
        "    display_game_state()\n",
        "    guess = input(\"Guess a letter: \").upper()\n",
        "\n",
        "    if guess in guessed_letters:\n",
        "        incorrect_guesses += 1\n",
        "        print(\"You already guessed that letter. Try again.\")\n",
        "        print(\" \")\n",
        "    elif guess in word_to_guess:\n",
        "        for index, letter in enumerate(word_to_guess):\n",
        "            if letter == guess:\n",
        "                hidden_word[index] = guess\n",
        "        guessed_letters.append(guess)\n",
        "        print(\" \")\n",
        "    else:\n",
        "        incorrect_guesses += 1\n",
        "        guessed_letters.append(guess)\n",
        "        print(f\"Incorrect guess. Please try another letter.\")\n",
        "        print(\" \")\n",
        "\n",
        "# Display the final game state\n",
        "display_game_state()\n",
        "\n",
        "# Check if the player won or lost\n",
        "if \"_\" not in hidden_word:\n",
        "    print(\"Congratulations! You guessed the word: \" + word_to_guess)\n",
        "else:\n",
        "\n",
        "    print(\"Game Over, you ran out of incorrect guesses. The word was: \" + word_to_guess)"
      ]
    }
  ]
}